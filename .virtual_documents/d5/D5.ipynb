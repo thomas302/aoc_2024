import statistics as s
with open("input") as f:
    data = f.readlines()

#data = data.split("\n")

rules = data[:data.index('\n')]
data = data[data.index('\n'):]
del data[0]
#rules = data[:data.index('-')]
rules = '''47|53
97|13
97|61
97|47
75|29
61|13
75|53
29|13
97|29
53|29
61|53
97|53
61|29
47|13
75|47
97|75
47|61
75|61
47|29
75|13
53|13
'''

data='''75,47,61,53,29
97,61,53,29,13
75,29,13
75,97,47,61,53
61,13,29
97,13,75,29,47'''

#rules = [[entry.strip("\n").split("|")] for i, entry in enumerate(rules)]
rules = rules.split('\n')
del rules[-1]
rules = [[entry.split("|")] for i, entry in enumerate(rules)]
print(rules)
rules = sorted(rules, key=lambda x: x[0][1])

vals = list(range(10, 100))

for v in vals:
    v = str(v)
    apt_rules = list(filter(lambda x: x[0][1]==str(v), rules))
    for r in apt_rules:
        if vals.index(int(v)) > vals.index(int(r[0][0])):
            x = v
            i = vals.index(int(r[0][0]))
            vals[vals.index(int(v))] = vals[vals.index(int(r[0][0]))]
            vals[i] = int(x)
print(vals)

vals = {str(v):i for i, v in enumerate(vals)}
vals

l = ['75','47','61','53','29']

l2 = l.copy()
print(l)
l2.sort(key=lambda x: vals[x], reverse=True)
print(l2)
print(l2 == l)
c = 0
data = data.split('\n')
for entry in data:
    l = entry.strip('\n').split(',')
    l2 = l.copy()
    l2.sort(key=lambda x: vals[x], reverse=True)
    if l2 == l:
        print(l)
        print(int(l[len(l)//2]))
        c+=int(l[len(l)//2])
c


import statistics as s
with open("input") as f:
    data = f.readlines()

#data = data.split("\n")

rules = data[:data.index('\n')]
data = data[data.index('\n'):]
del data[0]
#rules = data[:data.index('-')]

#rules = [[entry.strip("\n").split("|")] for i, entry in enumerate(rules)]

rules = [[entry.strip('\n').split("|")] for i, entry in enumerate(rules)]

rules = sorted(rules, key=lambda x: x[0][1])

vals = list(range(10, 100))

for v in vals:
    v = str(v)
    apt_rules = list(filter(lambda x: x[0][1]==str(v), rules))
    for r in apt_rules:
        if vals.index(int(v)) > vals.index(int(r[0][0])):
            x = v
            i = vals.index(int(r[0][0]))
            vals[vals.index(int(v))] = vals[vals.index(int(r[0][0]))]
            vals[i] = int(x)

vals = {str(v):i for i, v in enumerate(vals)}
print(vals)
c = 0

for entry in data:
    l = entry.strip('\n').split(',')
    l2 = l.copy()
    l2.sort(key=lambda x: vals[x], reverse=True)
    if l2 == l:
        print(l)
        print(int(l[len(l)//2]))
        c+=int(l[len(l)//2])
c






