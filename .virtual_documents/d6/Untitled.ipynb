_input='''....#.....
.........#
..........
..#.......
.......#..
..........
.#..^.....
........#.
#.........
......#...

'''

_map = _input.split('\n')

def get_start(_map: list)->tuple:
    for l in range(len(_input)):
        line = _input[l]
        c = line.find('^')
        if not c ==-1:
            return (l, c)

start = get_start(_map)
        
def traverse_direction(_map, start, direction):
    pos = start
    current_val = _map[pos[0]][pos[1]]
    print(current_val)
    count = 0
    while True:
        if pos[0] < len(_map)-1 and pos[1] < len(_map[0]) - 1:
            count += 1
            if current_val == '#':
                return (pos[0]-1, pos[1]-1), (direction[1], -direction[0]), count
        else:
            return (pos[0]-1, pos[1]-1), direction, count   
        pos[0] += direction[0]
        pos[1] += direction[1]

up = (1, 0)

start



