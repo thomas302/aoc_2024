data = """....XXMAS.
.SAMXMS...
...S..A...
..A.A.MS.X
XMASAMX.MM
X.....XA.A
S.S.S.S.SS
.A.A.A.A.A
..M.M.M.MM
.X.X.XMASX"""

data = data.split("\n")


#get Rows
rcd = data.copy()

#get cols
cols = []
for col in range(len(data[0])):
    s = ''
    for row in data:
        s+=''.join(row[col])
        #print(row[col])
    cols.append(s)
    
#get diaggonals
diag = ['']*(len(data)+len(data[0]))
rdiag = ['']*(len(data)+len(data[0]))
min_bdiag = -len(data) + 1

for i in range(len(data)):
    for j in range(len(data[0])):
        diag[i+j] = diag[i+j] + ''.join(data[j][i])
        rdiag[i-j-min_bdiag] = rdiag[i-j-min_bdiag] + ''.join(data[j][i])
        
rcd += cols
rcd += diag
rcd += rdiag

c = 0
for i in rcd:
    c += i.count("XMAS")
    c += i[::-1].count("XMAS")

print(c)






