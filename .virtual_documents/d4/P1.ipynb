data = """....XXMAS.
.SAMXMS...
...S..A...
..A.A.MS.X
XMASAMX.MM
X.....XA.A
S.S.S.S.SS
.A.A.A.A.A
..M.M.M.MM
.X.X.XMASX"""

data = data.split("\n")


#get Rows
rcd = data.copy()

#get cols
cols = []
for col in range(len(data[0])):
    s = ''
    for row in data:
        s+=''.join(row[col])
        #print(row[col])
    cols.append(s)
    
#get diaggonals
diag = ['']*(len(data)+len(data[0]))
rdiag = ['']*(len(data)+len(data[0]))
min_bdiag = -len(data) + 1

for i in range(len(data)):
    for j in range(len(data[0])):
        diag[i+j] = diag[i+j] + ''.join(data[j][i])
        rdiag[i-j-min_bdiag] = rdiag[i-j-min_bdiag] + ''.join(data[j][i])
        
rcd += cols
rcd += diag
rcd += rdiag

c = 0
for i in rcd:
    c += i.count("XMAS")
    c += i[::-1].count("XMAS")
print(c)


data = []
with open("input", "r") as f:
    data = f.read().split("\n")
del data[len(data)-1]
print(data)


#get Rows
rcd = data.copy()
print(len(data))
print(len(data[0]))
#get cols
cols = []
for col in range(len(data[0])):
    s = ''
    for row in data:
        s+=''.join(row[col])
        #print(row[col])
    cols.append(s)
    
#get diaggonals
diag = ['']*(len(data)+len(data[0]))
rdiag = ['']*(len(data)+len(data[0]))
min_bdiag = -len(data) + 1

for i in range(len(data)):
    for j in range(len(data[0])):
        diag[i+j] = diag[i+j] + ''.join(data[j][i])
        rdiag[i-j-min_bdiag] = rdiag[i-j-min_bdiag] + ''.join(data[j][i])
        
rcd += cols
rcd += diag
rcd += rdiag

c = 0
for i in rcd:
    c += i.count("XMAS")
    c += i[::-1].count("XMAS")
print(c)


# Find A's not on the perimiter
data = """.M.S......
..A..MSMS.
.M.S.MAA..
..A.ASMSM.
.M.S.M....
..........
S.S.S.S.S.
.A.A.A.A..
M.M.M.M.M.
.........."""
data = data.split("\n")
a_pos = []
for r in range(len(data)):
    for c in range(len(data[0])):
        if r == 0 or c == 0 or r == (len(data)-1) or c==(len(data[0])-1):
            continue
        if data[r][c] == 'A':
            a_pos.append((r,c))

print(a_pos)

checkList = [
    (
        ''.join([
            data[i[0]+1][i[1]-1],
            data[i[0]][i[1]],
            data[i[0]-1][i[1]+1]
        ]),
        ''.join([
            data[i[0]-1][i[1]-1],
            data[i[0]][i[1]],
            data[i[0]+1][i[1]+1]
        ])
    )
    for i in a_pos
]

count = 0
for i in checkList:
    if(set(i).issubset({('SAM', 'SAM'), ('MAS', 'SAM'), ('MAS', 'MAS'), ('SAM', 'MAS')})):
        count += 1


print(checkList)
print(count)



