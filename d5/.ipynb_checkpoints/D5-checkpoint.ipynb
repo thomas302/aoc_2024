{
 "cells": [
  {
   "cell_type": "code",
   "execution_count": 90,
   "id": "1c7712d7-2cf1-4d74-a5d5-deaf499d154e",
   "metadata": {},
   "outputs": [
    {
     "name": "stdout",
     "output_type": "stream",
     "text": [
      "[[['47', '53']], [['97', '13']], [['97', '61']], [['97', '47']], [['75', '29']], [['61', '13']], [['75', '53']], [['29', '13']], [['97', '29']], [['53', '29']], [['61', '53']], [['97', '53']], [['61', '29']], [['47', '13']], [['75', '47']], [['97', '75']], [['47', '61']], [['75', '61']], [['47', '29']], [['75', '13']], [['53', '13']]]\n",
      "[10, 11, 12, 13, 14, 15, 16, 17, 18, 19, 20, 21, 22, 23, 24, 25, 26, 27, 28, 29, 30, 31, 32, 33, 34, 35, 36, 37, 38, 39, 40, 41, 42, 43, 44, 45, 46, 53, 48, 49, 50, 51, 52, 61, 54, 55, 56, 57, 58, 59, 60, 47, 62, 63, 64, 65, 66, 67, 68, 69, 70, 71, 72, 73, 74, 75, 76, 77, 78, 79, 80, 81, 82, 83, 84, 85, 86, 87, 88, 89, 90, 91, 92, 93, 94, 95, 96, 97, 98, 99]\n",
      "['75', '47', '61', '53', '29']\n",
      "['75', '47', '61', '53', '29']\n",
      "True\n",
      "['75', '47', '61', '53', '29']\n",
      "61\n",
      "['97', '61', '53', '29', '13']\n",
      "53\n",
      "['75', '29', '13']\n",
      "29\n"
     ]
    },
    {
     "data": {
      "text/plain": [
       "143"
      ]
     },
     "execution_count": 90,
     "metadata": {},
     "output_type": "execute_result"
    }
   ],
   "source": [
    "import statistics as s\n",
    "with open(\"input\") as f:\n",
    "    data = f.readlines()\n",
    "\n",
    "#data = data.split(\"\\n\")\n",
    "\n",
    "rules = data[:data.index('\\n')]\n",
    "data = data[data.index('\\n'):]\n",
    "del data[0]\n",
    "#rules = data[:data.index('-')]\n",
    "rules = '''47|53\n",
    "97|13\n",
    "97|61\n",
    "97|47\n",
    "75|29\n",
    "61|13\n",
    "75|53\n",
    "29|13\n",
    "97|29\n",
    "53|29\n",
    "61|53\n",
    "97|53\n",
    "61|29\n",
    "47|13\n",
    "75|47\n",
    "97|75\n",
    "47|61\n",
    "75|61\n",
    "47|29\n",
    "75|13\n",
    "53|13\n",
    "'''\n",
    "\n",
    "data='''75,47,61,53,29\n",
    "97,61,53,29,13\n",
    "75,29,13\n",
    "75,97,47,61,53\n",
    "61,13,29\n",
    "97,13,75,29,47'''\n",
    "\n",
    "#rules = [[entry.strip(\"\\n\").split(\"|\")] for i, entry in enumerate(rules)]\n",
    "rules = rules.split('\\n')\n",
    "del rules[-1]\n",
    "rules = [[entry.split(\"|\")] for i, entry in enumerate(rules)]\n",
    "print(rules)\n",
    "rules = sorted(rules, key=lambda x: x[0][1])\n",
    "\n",
    "vals = list(range(10, 100))\n",
    "\n",
    "for v in vals:\n",
    "    v = str(v)\n",
    "    apt_rules = list(filter(lambda x: x[0][1]==str(v), rules))\n",
    "    for r in apt_rules:\n",
    "        if vals.index(int(v)) > vals.index(int(r[0][0])):\n",
    "            x = v\n",
    "            i = vals.index(int(r[0][0]))\n",
    "            vals[vals.index(int(v))] = vals[vals.index(int(r[0][0]))]\n",
    "            vals[i] = int(x)\n",
    "print(vals)\n",
    "\n",
    "vals = {str(v):i for i, v in enumerate(vals)}\n",
    "vals\n",
    "\n",
    "l = ['75','47','61','53','29']\n",
    "\n",
    "l2 = l.copy()\n",
    "print(l)\n",
    "l2.sort(key=lambda x: vals[x], reverse=True)\n",
    "print(l2)\n",
    "print(l2 == l)\n",
    "c = 0\n",
    "data = data.split('\\n')\n",
    "for entry in data:\n",
    "    l = entry.strip('\\n').split(',')\n",
    "    l2 = l.copy()\n",
    "    l2.sort(key=lambda x: vals[x], reverse=True)\n",
    "    if l2 == l:\n",
    "        print(l)\n",
    "        print(int(l[len(l)//2]))\n",
    "        c+=int(l[len(l)//2])\n",
    "c"
   ]
  },
  {
   "cell_type": "code",
   "execution_count": 103,
   "id": "1bc39e9a-5654-4a91-a737-13e881451331",
   "metadata": {},
   "outputs": [
    {
     "name": "stdout",
     "output_type": "stream",
     "text": [
      "{'10': 0, '94': 1, '99': 2, '96': 3, '14': 4, '15': 5, '16': 6, '86': 7, '56': 8, '87': 9, '20': 10, '21': 11, '48': 12, '23': 13, '49': 14, '25': 15, '26': 16, '92': 17, '57': 18, '38': 19, '30': 20, '31': 21, '71': 22, '33': 23, '34': 24, '35': 25, '13': 26, '28': 27, '29': 28, '81': 29, '40': 30, '41': 31, '36': 32, '43': 33, '19': 34, '45': 35, '22': 36, '69': 37, '66': 38, '65': 39, '50': 40, '46': 41, '91': 42, '78': 43, '54': 44, '42': 45, '27': 46, '89': 47, '12': 48, '59': 49, '60': 50, '61': 51, '62': 52, '44': 53, '64': 54, '98': 55, '53': 56, '67': 57, '68': 58, '32': 59, '70': 60, '47': 61, '72': 62, '58': 63, '39': 64, '24': 65, '76': 66, '77': 67, '63': 68, '79': 69, '80': 70, '37': 71, '82': 72, '83': 73, '84': 74, '85': 75, '74': 76, '11': 77, '88': 78, '52': 79, '90': 80, '55': 81, '75': 82, '93': 83, '17': 84, '95': 85, '18': 86, '97': 87, '51': 88, '73': 89}\n"
     ]
    },
    {
     "data": {
      "text/plain": [
       "0"
      ]
     },
     "execution_count": 103,
     "metadata": {},
     "output_type": "execute_result"
    }
   ],
   "source": [
    "import statistics as s\n",
    "with open(\"input\") as f:\n",
    "    data = f.readlines()\n",
    "\n",
    "#data = data.split(\"\\n\")\n",
    "\n",
    "rules = data[:data.index('\\n')]\n",
    "data = data[data.index('\\n'):]\n",
    "del data[0]\n",
    "#rules = data[:data.index('-')]\n",
    "\n",
    "#rules = [[entry.strip(\"\\n\").split(\"|\")] for i, entry in enumerate(rules)]\n",
    "\n",
    "rules = [[entry.strip('\\n').split(\"|\")] for i, entry in enumerate(rules)]\n",
    "\n",
    "rules = sorted(rules, key=lambda x: x[0][1])\n",
    "\n",
    "vals = list(range(10, 100))\n",
    "\n",
    "for v in vals:\n",
    "    v = str(v)\n",
    "    apt_rules = list(filter(lambda x: x[0][1]==str(v), rules))\n",
    "    for r in apt_rules:\n",
    "        if vals.index(int(v)) > vals.index(int(r[0][0])):\n",
    "            x = v\n",
    "            i = vals.index(int(r[0][0]))\n",
    "            vals[vals.index(int(v))] = vals[vals.index(int(r[0][0]))]\n",
    "            vals[i] = int(x)\n",
    "\n",
    "vals = {str(v):i for i, v in enumerate(vals)}\n",
    "print(vals)\n",
    "c = 0\n",
    "\n",
    "for entry in data:\n",
    "    l = entry.strip('\\n').split(',')\n",
    "    l2 = l.copy()\n",
    "    l2.sort(key=lambda x: vals[x], reverse=True)\n",
    "    if l2 == l:\n",
    "        print(l)\n",
    "        print(int(l[len(l)//2]))\n",
    "        c+=int(l[len(l)//2])\n",
    "c"
   ]
  }
 ],
 "metadata": {
  "kernelspec": {
   "display_name": "Python 3 (ipykernel)",
   "language": "python",
   "name": "python3"
  },
  "language_info": {
   "codemirror_mode": {
    "name": "ipython",
    "version": 3
   },
   "file_extension": ".py",
   "mimetype": "text/x-python",
   "name": "python",
   "nbconvert_exporter": "python",
   "pygments_lexer": "ipython3",
   "version": "3.12.4"
  }
 },
 "nbformat": 4,
 "nbformat_minor": 5
}
